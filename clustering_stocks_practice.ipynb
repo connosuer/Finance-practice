{
 "cells": [
  {
   "cell_type": "code",
   "execution_count": 3,
   "id": "b7ab024a-0ff2-425a-aabd-b83d72b72f9e",
   "metadata": {},
   "outputs": [],
   "source": [
    "import requests\n",
    "import pandas as pd "
   ]
  },
  {
   "cell_type": "code",
   "execution_count": null,
   "id": "0a1109bf-7e13-4dac-a51f-3793354a69f5",
   "metadata": {},
   "outputs": [],
   "source": [
    "#loading stock symbols into data frame\n",
    "stock_symbols = pd.read_csv(r\""
   ]
  }
 ],
 "metadata": {
  "kernelspec": {
   "display_name": "Python 3 (ipykernel)",
   "language": "python",
   "name": "python3"
  },
  "language_info": {
   "codemirror_mode": {
    "name": "ipython",
    "version": 3
   },
   "file_extension": ".py",
   "mimetype": "text/x-python",
   "name": "python",
   "nbconvert_exporter": "python",
   "pygments_lexer": "ipython3",
   "version": "3.12.3"
  }
 },
 "nbformat": 4,
 "nbformat_minor": 5
}
